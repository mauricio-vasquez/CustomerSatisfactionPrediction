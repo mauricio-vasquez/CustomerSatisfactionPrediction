{
 "cells": [
  {
   "cell_type": "markdown",
   "id": "83f77f31",
   "metadata": {},
   "source": [
    "<img src=\"data:image/png;base64,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\" width=\"150\"/>"
   ]
  },
  {
   "cell_type": "markdown",
   "id": "ee252f0e",
   "metadata": {},
   "source": [
    "\n",
    "# APZIVA AI RESIDENCY PROGRAM\n",
    "\n",
    "## Project 1: Happy customers\n",
    "### Predicting customer satisfaction with classification models\n",
    "\n",
    "### By: Mauricio Vásquez\n",
    "### March 2023"
   ]
  },
  {
   "cell_type": "markdown",
   "id": "57c8592e",
   "metadata": {},
   "source": [
    "# I. PROBLEM STATEMENT"
   ]
  },
  {
   "cell_type": "markdown",
   "id": "f343a68b",
   "metadata": {},
   "source": [
    "#### Background:\n",
    "\n",
    "We are one of the fastest growing startups in the logistics and delivery domain. We work with several partners and make on-demand delivery to our customers. During the COVID-19 pandemic, we are facing several different challenges and everyday we are trying to address these challenges.\n",
    "\n",
    "We thrive on making our customers happy. As a growing startup, with a global expansion strategy we know that we need to make our customers happy and the only way to do that is to measure how happy each customer is. If we can predict what makes our customers happy or unhappy, we can then take necessary actions.\n",
    "\n",
    "Getting feedback from customers is not easy either, but we do our best to get constant feedback from our customers. This is a crucial function to improve our operations across all levels.\n",
    "\n",
    "We recently did a survey to a select customer cohort. You are presented with a subset of this data. We will be using the remaining data as a private test set.\n",
    "\n",
    "#### Data Description:\n",
    "\n",
    "Y = target attribute (Y) with values indicating 0 (unhappy) and 1 (happy) customers\n",
    "\n",
    "X1 = my order was delivered on time\n",
    "\n",
    "X2 = contents of my order was as I expected\n",
    "\n",
    "X3 = I ordered everything I wanted to order\n",
    "\n",
    "X4 = I paid a good price for my order\n",
    "\n",
    "X5 = I am satisfied with my courier\n",
    "\n",
    "X6 = the app makes ordering easy for me\n",
    "\n",
    "Attributes X1 to X6 indicate the responses for each question and have values from 1 to 5 where the smaller number indicates less and the higher number indicates more towards the answer.\n",
    "\n",
    "#### Download Data:\n",
    "\n",
    "https://drive.google.com/open?id=1KWE3J0uU_sFIJnZ74Id3FDBcejELI7FD\n",
    "\n",
    "#### Goal(s):\n",
    "\n",
    "Predict if a customer is happy or not based on the answers they give to questions asked.\n",
    "\n",
    "#### Success Metrics:\n",
    "\n",
    "Reach 73% accuracy score or above, or convince us why your solution is superior. We are definitely interested in every solution and insight you can provide us.\n",
    "\n",
    "Try to submit your working solution as soon as possible. The sooner the better.\n",
    "\n",
    "#### Bonus(es):\n",
    "\n",
    "We are very interested in finding which questions/features are more important when predicting a customer’s happiness. Using a feature selection approach show us understand what is the minimal set of attributes/features that would preserve the most information about the problem while increasing predictability of the data we have. Is there any question that we can remove in our next survey?\n",
    "\n",
    "\n",
    "##### Extra bonus:\n",
    "Although not asked by the logistics startup, I will evaluate the feasibility of putting into production a customer satisfaction prediction system for the company.\n",
    "\n",
    "#### Submission Instructions:\n",
    "* Project should be implemented with Python\n",
    "* Please name your repository on GitHub with this name without exposing your project information: 6uguGiEmFVc3OZLd\n"
   ]
  },
  {
   "cell_type": "markdown",
   "id": "646ecdc6",
   "metadata": {},
   "source": [
    "# II. PROOF OF CONCEPT"
   ]
  },
  {
   "cell_type": "markdown",
   "id": "f24bf489",
   "metadata": {},
   "source": [
    "## 0. Import libraries & set display"
   ]
  },
  {
   "cell_type": "code",
   "execution_count": 1,
   "id": "5fcd7104",
   "metadata": {},
   "outputs": [],
   "source": [
    "# Basic libraries\n",
    "import numpy as np\n",
    "import pandas as pd\n",
    "import warnings\n",
    "warnings.filterwarnings('ignore')\n",
    "\n",
    "# Data preprocessing\n",
    "from sklearn.preprocessing import OrdinalEncoder\n",
    "\n",
    "# Visualization\n",
    "import seaborn as sns\n",
    "import matplotlib.pyplot as plt\n",
    "sns.set() # Setting seaborn as default style even if use only matplotlib\n",
    "\n",
    "# Modelling\n",
    "from sklearn.model_selection import train_test_split, cross_val_score, GridSearchCV, cross_validate\n",
    "from sklearn.linear_model import LogisticRegression\n",
    "from sklearn import svm\n",
    "from sklearn import metrics\n",
    "from sklearn.ensemble import RandomForestClassifier\n",
    "from sklearn.tree import DecisionTreeClassifier, export_graphviz\n",
    "\n",
    "#set display\n",
    "pd.set_option('display.max_columns', None)"
   ]
  },
  {
   "cell_type": "markdown",
   "id": "b9235d30",
   "metadata": {},
   "source": [
    "## 1. Data importing, understanding and preprocessing"
   ]
  },
  {
   "cell_type": "code",
   "execution_count": 2,
   "id": "37ca91e9",
   "metadata": {},
   "outputs": [],
   "source": [
    "# Import data\n",
    "satisfaction = pd.read_csv('ACME-HappinessSurvey2020.csv', dtype='category') # Note that all variables are categorical"
   ]
  },
  {
   "cell_type": "code",
   "execution_count": 3,
   "id": "68428b51",
   "metadata": {},
   "outputs": [
    {
     "name": "stdout",
     "output_type": "stream",
     "text": [
      "<class 'pandas.core.frame.DataFrame'>\n",
      "RangeIndex: 126 entries, 0 to 125\n",
      "Data columns (total 7 columns):\n",
      " #   Column  Non-Null Count  Dtype   \n",
      "---  ------  --------------  -----   \n",
      " 0   Y       126 non-null    category\n",
      " 1   X1      126 non-null    category\n",
      " 2   X2      126 non-null    category\n",
      " 3   X3      126 non-null    category\n",
      " 4   X4      126 non-null    category\n",
      " 5   X5      126 non-null    category\n",
      " 6   X6      126 non-null    category\n",
      "dtypes: category(7)\n",
      "memory usage: 2.2 KB\n"
     ]
    }
   ],
   "source": [
    "# Explore dataset structure and formats\n",
    "satisfaction.info()"
   ]
  },
  {
   "cell_type": "code",
   "execution_count": 4,
   "id": "b155b6b7",
   "metadata": {},
   "outputs": [
    {
     "data": {
      "text/html": [
       "<div>\n",
       "<style scoped>\n",
       "    .dataframe tbody tr th:only-of-type {\n",
       "        vertical-align: middle;\n",
       "    }\n",
       "\n",
       "    .dataframe tbody tr th {\n",
       "        vertical-align: top;\n",
       "    }\n",
       "\n",
       "    .dataframe thead th {\n",
       "        text-align: right;\n",
       "    }\n",
       "</style>\n",
       "<table border=\"1\" class=\"dataframe\">\n",
       "  <thead>\n",
       "    <tr style=\"text-align: right;\">\n",
       "      <th></th>\n",
       "      <th>Y</th>\n",
       "      <th>X1</th>\n",
       "      <th>X2</th>\n",
       "      <th>X3</th>\n",
       "      <th>X4</th>\n",
       "      <th>X5</th>\n",
       "      <th>X6</th>\n",
       "    </tr>\n",
       "  </thead>\n",
       "  <tbody>\n",
       "    <tr>\n",
       "      <th>0</th>\n",
       "      <td>0</td>\n",
       "      <td>3</td>\n",
       "      <td>3</td>\n",
       "      <td>3</td>\n",
       "      <td>4</td>\n",
       "      <td>2</td>\n",
       "      <td>4</td>\n",
       "    </tr>\n",
       "    <tr>\n",
       "      <th>1</th>\n",
       "      <td>0</td>\n",
       "      <td>3</td>\n",
       "      <td>2</td>\n",
       "      <td>3</td>\n",
       "      <td>5</td>\n",
       "      <td>4</td>\n",
       "      <td>3</td>\n",
       "    </tr>\n",
       "    <tr>\n",
       "      <th>2</th>\n",
       "      <td>1</td>\n",
       "      <td>5</td>\n",
       "      <td>3</td>\n",
       "      <td>3</td>\n",
       "      <td>3</td>\n",
       "      <td>3</td>\n",
       "      <td>5</td>\n",
       "    </tr>\n",
       "    <tr>\n",
       "      <th>3</th>\n",
       "      <td>0</td>\n",
       "      <td>5</td>\n",
       "      <td>4</td>\n",
       "      <td>3</td>\n",
       "      <td>3</td>\n",
       "      <td>3</td>\n",
       "      <td>5</td>\n",
       "    </tr>\n",
       "    <tr>\n",
       "      <th>4</th>\n",
       "      <td>0</td>\n",
       "      <td>5</td>\n",
       "      <td>4</td>\n",
       "      <td>3</td>\n",
       "      <td>3</td>\n",
       "      <td>3</td>\n",
       "      <td>5</td>\n",
       "    </tr>\n",
       "  </tbody>\n",
       "</table>\n",
       "</div>"
      ],
      "text/plain": [
       "   Y X1 X2 X3 X4 X5 X6\n",
       "0  0  3  3  3  4  2  4\n",
       "1  0  3  2  3  5  4  3\n",
       "2  1  5  3  3  3  3  5\n",
       "3  0  5  4  3  3  3  5\n",
       "4  0  5  4  3  3  3  5"
      ]
     },
     "execution_count": 4,
     "metadata": {},
     "output_type": "execute_result"
    }
   ],
   "source": [
    "satisfaction.head(5)"
   ]
  },
  {
   "cell_type": "markdown",
   "id": "3e5e3248",
   "metadata": {},
   "source": [
    "## 2. Exploratory Data Analysis"
   ]
  },
  {
   "cell_type": "code",
   "execution_count": 5,
   "id": "84c60d64",
   "metadata": {},
   "outputs": [
    {
     "data": {
      "text/html": [
       "<div>\n",
       "<style scoped>\n",
       "    .dataframe tbody tr th:only-of-type {\n",
       "        vertical-align: middle;\n",
       "    }\n",
       "\n",
       "    .dataframe tbody tr th {\n",
       "        vertical-align: top;\n",
       "    }\n",
       "\n",
       "    .dataframe thead th {\n",
       "        text-align: right;\n",
       "    }\n",
       "</style>\n",
       "<table border=\"1\" class=\"dataframe\">\n",
       "  <thead>\n",
       "    <tr style=\"text-align: right;\">\n",
       "      <th></th>\n",
       "      <th>Y</th>\n",
       "      <th>X1</th>\n",
       "      <th>X2</th>\n",
       "      <th>X3</th>\n",
       "      <th>X4</th>\n",
       "      <th>X5</th>\n",
       "      <th>X6</th>\n",
       "    </tr>\n",
       "  </thead>\n",
       "  <tbody>\n",
       "    <tr>\n",
       "      <th>count</th>\n",
       "      <td>126</td>\n",
       "      <td>126</td>\n",
       "      <td>126</td>\n",
       "      <td>126</td>\n",
       "      <td>126</td>\n",
       "      <td>126</td>\n",
       "      <td>126</td>\n",
       "    </tr>\n",
       "    <tr>\n",
       "      <th>unique</th>\n",
       "      <td>2</td>\n",
       "      <td>4</td>\n",
       "      <td>5</td>\n",
       "      <td>5</td>\n",
       "      <td>5</td>\n",
       "      <td>5</td>\n",
       "      <td>5</td>\n",
       "    </tr>\n",
       "    <tr>\n",
       "      <th>top</th>\n",
       "      <td>1</td>\n",
       "      <td>5</td>\n",
       "      <td>3</td>\n",
       "      <td>3</td>\n",
       "      <td>4</td>\n",
       "      <td>4</td>\n",
       "      <td>5</td>\n",
       "    </tr>\n",
       "    <tr>\n",
       "      <th>freq</th>\n",
       "      <td>69</td>\n",
       "      <td>65</td>\n",
       "      <td>42</td>\n",
       "      <td>55</td>\n",
       "      <td>53</td>\n",
       "      <td>50</td>\n",
       "      <td>57</td>\n",
       "    </tr>\n",
       "  </tbody>\n",
       "</table>\n",
       "</div>"
      ],
      "text/plain": [
       "          Y   X1   X2   X3   X4   X5   X6\n",
       "count   126  126  126  126  126  126  126\n",
       "unique    2    4    5    5    5    5    5\n",
       "top       1    5    3    3    4    4    5\n",
       "freq     69   65   42   55   53   50   57"
      ]
     },
     "execution_count": 5,
     "metadata": {},
     "output_type": "execute_result"
    }
   ],
   "source": [
    "# Quick overview of descriptive statistics\n",
    "satisfaction.describe()"
   ]
  },
  {
   "cell_type": "markdown",
   "id": "e42aa677",
   "metadata": {},
   "source": [
    "At first glance, it is possible to infer that the customers in the sample are happier with delivering time (X1) and app ease of use (X6). By the other side, order contents accuracy (X2) and product availability (X3) recieved the worst satisfaction grading, being 3 the most common score."
   ]
  },
  {
   "cell_type": "code",
   "execution_count": 6,
   "id": "77ccb851",
   "metadata": {},
   "outputs": [
    {
     "data": {
      "text/plain": [
       "[Text(0, 0, '69'), Text(0, 0, '57')]"
      ]
     },
     "execution_count": 6,
     "metadata": {},
     "output_type": "execute_result"
    },
    {
     "data": {
      "image/png": "[encoded data removed]",
      "text/plain": [
       "<Figure size 640x480 with 1 Axes>"
      ]
     },
     "metadata": {},
     "output_type": "display_data"
    }
   ],
   "source": [
    "# Graph target variable\n",
    "ax = sns.countplot(satisfaction['Y'], order=satisfaction['Y'].value_counts(ascending=False).index)\n",
    "abs_values = satisfaction['Y'].value_counts(ascending=False).values\n",
    "ax.bar_label(container=ax.containers[0], labels=abs_values)"
   ]
  },
  {
   "cell_type": "markdown",
   "id": "d91e04e9",
   "metadata": {},
   "source": [
    "Code source for seaborn graph: https://stackoverflow.com/questions/49044131/how-to-add-data-labels-to-seaborn-countplot-factorplot"
   ]
  },
  {
   "cell_type": "code",
   "execution_count": 5,
   "id": "1616e44e",
   "metadata": {},
   "outputs": [
    {
     "name": "stdout",
     "output_type": "stream",
     "text": [
      "Percentage of happy (1) and unhappy (0) customers: \n",
      " 1    54.761905\n",
      "0    45.238095\n",
      "Name: Y, dtype: float64\n"
     ]
    }
   ],
   "source": [
    "print(\"Percentage of happy (1) and unhappy (0) customers: \\n\", satisfaction['Y'].value_counts(normalize=True)*100)"
   ]
  },
  {
   "cell_type": "markdown",
   "id": "d7e0b093",
   "metadata": {},
   "source": [
    "Although there are more overall happy than unhappy customers in the dataset, both categories are nearly balanced, as 69 of 126 customers (54.8%) are labeled as happy customers. \n",
    "\n",
    "Next, it is worth analyzing satisfaction grades by target category (unhappy vs. happy customers)"
   ]
  },
  {
   "cell_type": "markdown",
   "id": "e91503af",
   "metadata": {},
   "source": [
    "### X1: Delivery time"
   ]
  },
  {
   "cell_type": "code",
   "execution_count": 196,
   "id": "cada7ac7",
   "metadata": {},
   "outputs": [
    {
     "data": {
      "text/plain": [
       "<seaborn.axisgrid.FacetGrid at 0x1dc176227f0>"
      ]
     },
     "execution_count": 196,
     "metadata": {},
     "output_type": "execute_result"
    },
    {
     "data": {
      "image/png": "[encoded data removed]",
      "text/plain": [
       "<Figure size 600x300 with 2 Axes>"
      ]
     },
     "metadata": {},
     "output_type": "display_data"
    }
   ],
   "source": [
    "sea = sns.FacetGrid(satisfaction, col=\"Y\")\n",
    "sea.map(sns.countplot,\"X1\")"
   ]
  },
  {
   "cell_type": "markdown",
   "id": "db8d4378",
   "metadata": {},
   "source": [
    "Code source: https://www.geeksforgeeks.org/multi-plot-grid-in-seaborn/"
   ]
  },
  {
   "cell_type": "markdown",
   "id": "39904f3a",
   "metadata": {},
   "source": [
    "As we observed before, it is clear that happy customers prevail in this question. Delivery time have good grades in general, even within unhappy customers. Additionally, it can be seen that most unhappy customers graded delivery time with a lower grade (4) than happy ones (5). "
   ]
  },
  {
   "cell_type": "markdown",
   "id": "084e1ca8",
   "metadata": {},
   "source": [
    "### X2: Order content accuracy "
   ]
  },
  {
   "cell_type": "code",
   "execution_count": 219,
   "id": "411207d9",
   "metadata": {},
   "outputs": [
    {
     "data": {
      "text/plain": [
       "<seaborn.axisgrid.FacetGrid at 0x1dc177097f0>"
      ]
     },
     "execution_count": 219,
     "metadata": {},
     "output_type": "execute_result"
    },
    {
     "data": {
      "image/png": "[encoded data removed]",
      "text/plain": [
       "<Figure size 600x300 with 2 Axes>"
      ]
     },
     "metadata": {},
     "output_type": "display_data"
    }
   ],
   "source": [
    "sea = sns.FacetGrid(satisfaction, col=\"Y\")\n",
    "sea.map(sns.countplot,\"X2\")"
   ]
  },
  {
   "cell_type": "markdown",
   "id": "0ca8c193",
   "metadata": {},
   "source": [
    "Now the story is different than delivery time. Both happy and unhappy customers think the accuracy of their order contents where regular, as they graded it as a 3 (in the middle). It is possible that this question might not be suitable to explain if customers are happy or unhappy, for there are inconsistencies in the results. Specifically, happy customers have a larger quantity lower grades than unhappy ones. Similarly, there are relatively more unhappy customers that think order accuracy is good (4) than happy ones (see Exhibit 1). "
   ]
  },
  {
   "cell_type": "markdown",
   "id": "dae5f129",
   "metadata": {},
   "source": [
    "### X3: Product availability"
   ]
  },
  {
   "cell_type": "code",
   "execution_count": 221,
   "id": "0ab1a8ed",
   "metadata": {},
   "outputs": [
    {
     "data": {
      "text/plain": [
       "<seaborn.axisgrid.FacetGrid at 0x1dc177273d0>"
      ]
     },
     "execution_count": 221,
     "metadata": {},
     "output_type": "execute_result"
    },
    {
     "data": {
      "image/png": "[encoded data removed]",
      "text/plain": [
       "<Figure size 600x300 with 2 Axes>"
      ]
     },
     "metadata": {},
     "output_type": "display_data"
    }
   ],
   "source": [
    "sea = sns.FacetGrid(satisfaction, col=\"Y\")\n",
    "sea.map(sns.countplot,\"X3\")"
   ]
  },
  {
   "cell_type": "markdown",
   "id": "8cb077cf",
   "metadata": {},
   "source": [
    "Again, most customers graded product availability as regular (3). That reflects on the number of unhappy customers, which prevail in this category. Nonetheless, there are more good grades (4 & 5) within happy customers than within unhappy ones. "
   ]
  },
  {
   "cell_type": "markdown",
   "id": "12f580f7",
   "metadata": {},
   "source": [
    "### X4: Order price"
   ]
  },
  {
   "cell_type": "code",
   "execution_count": 222,
   "id": "da3be735",
   "metadata": {},
   "outputs": [
    {
     "data": {
      "text/plain": [
       "<seaborn.axisgrid.FacetGrid at 0x1dc17727490>"
      ]
     },
     "execution_count": 222,
     "metadata": {},
     "output_type": "execute_result"
    },
    {
     "data": {
      "image/png": "[encoded data removed]",
      "text/plain": [
       "<Figure size 600x300 with 2 Axes>"
      ]
     },
     "metadata": {},
     "output_type": "display_data"
    }
   ],
   "source": [
    "sea = sns.FacetGrid(satisfaction, col=\"Y\")\n",
    "sea.map(sns.countplot,\"X4\")"
   ]
  },
  {
   "cell_type": "markdown",
   "id": "495dbd41",
   "metadata": {},
   "source": [
    "Most of the customers -happy and unhappy ones- are ok with the price of the order, as they graded it as good (4). The next more frequent grade is regular (3) and then excellent (5). The results are coherent, for there are more happy customrs that gave good grades unhappy ones did. "
   ]
  },
  {
   "cell_type": "markdown",
   "id": "9e14790a",
   "metadata": {},
   "source": [
    "### X5: Courier satisfaction"
   ]
  },
  {
   "cell_type": "code",
   "execution_count": 224,
   "id": "d04773a8",
   "metadata": {},
   "outputs": [
    {
     "data": {
      "text/plain": [
       "<seaborn.axisgrid.FacetGrid at 0x1dc17944b80>"
      ]
     },
     "execution_count": 224,
     "metadata": {},
     "output_type": "execute_result"
    },
    {
     "data": {
      "image/png": "[encoded data removed]",
      "text/plain": [
       "<Figure size 600x300 with 2 Axes>"
      ]
     },
     "metadata": {},
     "output_type": "display_data"
    }
   ],
   "source": [
    "sea = sns.FacetGrid(satisfaction, col=\"Y\")\n",
    "sea.map(sns.countplot,\"X5\")"
   ]
  },
  {
   "cell_type": "markdown",
   "id": "4054464b",
   "metadata": {},
   "source": [
    "In general customers are satisfied with their courier provider. The most common grade in this question is good (4). Also, happy customers prevail in terms of courier satisfaction. There is an opportunity to improve, as most of the grades aren't excellent (5)"
   ]
  },
  {
   "cell_type": "markdown",
   "id": "a32edc07",
   "metadata": {},
   "source": [
    "### X6: app easyness of use"
   ]
  },
  {
   "cell_type": "code",
   "execution_count": 225,
   "id": "997b133c",
   "metadata": {},
   "outputs": [
    {
     "data": {
      "text/plain": [
       "<seaborn.axisgrid.FacetGrid at 0x1dc17662610>"
      ]
     },
     "execution_count": 225,
     "metadata": {},
     "output_type": "execute_result"
    },
    {
     "data": {
      "image/png": "[encoded data removed]",
      "text/plain": [
       "<Figure size 600x300 with 2 Axes>"
      ]
     },
     "metadata": {},
     "output_type": "display_data"
    }
   ],
   "source": [
    "sea = sns.FacetGrid(satisfaction, col=\"Y\")\n",
    "sea.map(sns.countplot,\"X6\")"
   ]
  },
  {
   "cell_type": "markdown",
   "id": "959d1d99",
   "metadata": {},
   "source": [
    "Again, happy customers are the ones that prevail in this question. Most of the customers, happy and unhappy ones, think that the app facilitates significantly the order process. Nonetheless, unhappy customers are divided more equally between the highest grades: 3 to 5; than happy ones do. Indeed, Happy customers show a clearer preference for excellent grades than unhappy ones do. "
   ]
  },
  {
   "cell_type": "markdown",
   "id": "d1c1494a",
   "metadata": {},
   "source": [
    "### Preliminary conclusions from EDA\n"
   ]
  },
  {
   "cell_type": "markdown",
   "id": "5dcd534d",
   "metadata": {},
   "source": [
    "1. The company outperforms in delivery time (X1) and facilitating ordering through an app (X6). In both cases, the answers of surveyed customers are coherent with the outcome, as happy customers prevail.  \n",
    "\n",
    "2. Order price (X4) and courier satisfaction (X5) present an opportunity to improve, as they were graded as good (4). Both answers might be able to explain well the outcome.\n",
    "\n",
    "3. By the other way, order contents accuracy (X2) and product availability (X3) were graded with the worst grade as regular (3). Nonetheless, order contents accuracy question might not be able to explain properly the outcome, as it has more happy customers with regular grades than unhappy ones, which can be unexpected. \n",
    "\n",
    "    Another possible (although less likely) explanation might be that customers don't care as much their order contents accuracy. In either case, it would mean that X2 is not an appropiate question for explaining if customers would be happy or not."
   ]
  },
  {
   "cell_type": "markdown",
   "id": "ebbddf01",
   "metadata": {},
   "source": [
    "**Note**: The above conclusions hold over the assumption that the sample given by the company is representative and unbiased.  "
   ]
  },
  {
   "cell_type": "markdown",
   "id": "3ad75677",
   "metadata": {},
   "source": [
    "## 3. Model training, selection and evaluation"
   ]
  },
  {
   "cell_type": "markdown",
   "id": "387df567",
   "metadata": {},
   "source": [
    "### Split the dataset into train and test\n"
   ]
  },
  {
   "cell_type": "code",
   "execution_count": 64,
   "id": "810e92a7",
   "metadata": {},
   "outputs": [],
   "source": [
    "#Prepare data\n",
    "X = satisfaction.iloc[:,1:]\n",
    "Y = satisfaction['Y']\n",
    "tagsy = ['Unhappy (0)', 'Happy (1)']\n",
    "\n",
    "# Split\n",
    "X_train,X_test,Y_train,Y_test = train_test_split(X,Y,test_size=0.2,random_state=42)"
   ]
  },
  {
   "cell_type": "markdown",
   "id": "32ba0c7c",
   "metadata": {},
   "source": [
    "### a. Baseline model: logistic regression"
   ]
  },
  {
   "cell_type": "code",
   "execution_count": 67,
   "id": "d7d338ca",
   "metadata": {},
   "outputs": [],
   "source": [
    "# Model training\n",
    "logistic = LogisticRegression()\n",
    "logistic_model = logistic.fit(X_train.astype(int), Y_train.astype(int))  \n",
    "\n",
    "# Prediction\n",
    "y_pred = logistic.predict(X_test)"
   ]
  },
  {
   "cell_type": "code",
   "execution_count": 68,
   "id": "f5786aea",
   "metadata": {},
   "outputs": [
    {
     "name": "stdout",
     "output_type": "stream",
     "text": [
      "Accuracy score : 0.590\n",
      "Precision score : 0.598\n",
      "Recall (sensitivity) score : 0.574\n",
      "F1 score : 0.563\n"
     ]
    }
   ],
   "source": [
    "# Model evaluation:\n",
    "    # Training data performance\n",
    "    \n",
    "scoring = {'acc': 'accuracy',\n",
    "           'prec_macro': 'precision_macro',\n",
    "           'rec_macro': 'recall_macro',\n",
    "           'f1_macro': 'f1_macro'}\n",
    "\n",
    "scores = cross_validate(logistic, X_train, Y_train, cv=10, scoring=scoring)\n",
    "\n",
    "print ('Accuracy score : %.3f' % scores['test_acc'].mean())\n",
    "print ('Precision score : %.3f' % scores['test_prec_macro'].mean())\n",
    "print ('Recall (sensitivity) score : %.3f' % scores['test_rec_macro'].mean())\n",
    "print ('F1 score : %.3f' % scores['test_f1_macro'].mean())"
   ]
  },
  {
   "cell_type": "code",
   "execution_count": 76,
   "id": "6a4e396f",
   "metadata": {},
   "outputs": [
    {
     "name": "stdout",
     "output_type": "stream",
     "text": [
      "              precision    recall  f1-score   support\n",
      "\n",
      " Unhappy (0)      0.556     0.333     0.417        15\n",
      "   Happy (1)      0.412     0.636     0.500        11\n",
      "\n",
      "    accuracy                          0.462        26\n",
      "   macro avg      0.484     0.485     0.458        26\n",
      "weighted avg      0.495     0.462     0.452        26\n",
      "\n"
     ]
    }
   ],
   "source": [
    "    # Test data performance\n",
    "print(metrics.classification_report(Y_test, y_pred, target_names=tagsy, digits=3))"
   ]
  },
  {
   "cell_type": "markdown",
   "id": "4e7907c2",
   "metadata": {},
   "source": [
    "Our base model -logistic regression- underperforms accuracy expectancy (73%), as it nailed the correct outcome only 46.2% of the time. It also is overfitted, meaning that the model might be struggling to generalize on new data."
   ]
  },
  {
   "cell_type": "markdown",
   "id": "747a07f2",
   "metadata": {},
   "source": [
    "## Exhibits"
   ]
  },
  {
   "cell_type": "markdown",
   "id": "dd4771f8",
   "metadata": {},
   "source": [
    "### Exhibit 1: relative frequencies for each variable, by category in target variable"
   ]
  },
  {
   "cell_type": "code",
   "execution_count": 220,
   "id": "74761073",
   "metadata": {},
   "outputs": [
    {
     "name": "stdout",
     "output_type": "stream",
     "text": [
      "Y          0         1\n",
      "X1                    \n",
      "1   0.017544  0.000000\n",
      "3   0.210526  0.115942\n",
      "4   0.421053  0.231884\n",
      "5   0.350877  0.652174 \n",
      "\n",
      "Y          0         1\n",
      "X2                    \n",
      "1   0.228070  0.202899\n",
      "2   0.228070  0.304348\n",
      "3   0.333333  0.333333\n",
      "4   0.175439  0.101449\n",
      "5   0.035088  0.057971 \n",
      "\n",
      "Y          0         1\n",
      "X3                    \n",
      "1   0.070175  0.043478\n",
      "2   0.122807  0.101449\n",
      "3   0.508772  0.376812\n",
      "4   0.192982  0.318841\n",
      "5   0.105263  0.159420 \n",
      "\n",
      "Y          0         1\n",
      "X4                    \n",
      "1   0.000000  0.028986\n",
      "2   0.070175  0.014493\n",
      "3   0.350877  0.304348\n",
      "4   0.403509  0.434783\n",
      "5   0.175439  0.217391 \n",
      "\n",
      "Y          0         1\n",
      "X5                    \n",
      "1   0.087719  0.028986\n",
      "2   0.157895  0.101449\n",
      "3   0.210526  0.144928\n",
      "4   0.385965  0.405797\n",
      "5   0.157895  0.318841 \n",
      "\n",
      "Y          0         1\n",
      "X6                    \n",
      "1   0.000000  0.014493\n",
      "2   0.017544  0.000000\n",
      "3   0.245614  0.086957\n",
      "4   0.350877  0.391304\n",
      "5   0.385965  0.507246 \n",
      "\n"
     ]
    }
   ],
   "source": [
    "# Exhibit 1: Calculate relative frequencies for each variable, by category in target variable\n",
    "for i in range(1,7):\n",
    "    print(pd.crosstab(satisfaction.iloc[:,i],satisfaction['Y'] , normalize='columns'),\"\\n\")"
   ]
  }
 ],
 "metadata": {
  "kernelspec": {
   "display_name": "Python 3 (ipykernel)",
   "language": "python",
   "name": "python3"
  },
  "language_info": {
   "codemirror_mode": {
    "name": "ipython",
    "version": 3
   },
   "file_extension": ".py",
   "mimetype": "text/x-python",
   "name": "python",
   "nbconvert_exporter": "python",
   "pygments_lexer": "ipython3",
   "version": "3.9.13"
  }
 },
 "nbformat": 4,
 "nbformat_minor": 5
}
